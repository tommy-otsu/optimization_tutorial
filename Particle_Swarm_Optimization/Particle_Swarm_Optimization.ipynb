{
 "cells": [
  {
   "cell_type": "code",
   "execution_count": 1,
   "source": [
    "import numpy as np\r\n",
    "from matplotlib import pyplot as plt\r\n",
    "\r\n",
    "\r\n",
    "def f(x,y):\r\n",
    "    \"\"\"Himmelblau's function\"\"\" \r\n",
    "    return (x ** 2 +y-11)**2 + (x+y**2-7)**2\r\n",
    "\r\n",
    "\r\n",
    "def main():\r\n",
    "    x = np.arange(-2, 2, 0.1)\r\n",
    "    y = np.arange(-2, 2, 0.1)\r\n",
    "    xx, yy = np.meshgrid(x,y)\r\n",
    "\r\n",
    "    z = f(xx,yy)\r\n",
    "    plt.plot(x, y, label='f(x)')\r\n",
    "\r\n",
    "    plt.legend()\r\n",
    "    plt.show()\r\n",
    "\r\n",
    "\r\n",
    "if __name__ == '__main__':\r\n",
    "    main()"
   ],
   "outputs": [
    {
     "output_type": "display_data",
     "data": {
      "text/plain": [
       "<Figure size 432x288 with 1 Axes>"
      ],
      "image/png": "[encoded data removed]"
     },
     "metadata": {
      "needs_background": "light"
     }
    }
   ],
   "metadata": {}
  },
  {
   "cell_type": "code",
   "execution_count": null,
   "source": [
    "%matplotlib inline\r\n",
    "\r\n",
    "import numpy as np\r\n",
    "import matplotlib.pyplot as plt\r\n",
    "from mpl_toolkits.mplot3d import Axes3D\r\n",
    "\r\n",
    "fig = plt.figure(figsize=(8,6))\r\n",
    "ax = fig.add_subplot(111, projection='3d')\r\n",
    "\r\n",
    "# x, y, z成分のデータの作成\r\n",
    "x = np.arange(-5, 5, 0.25)\r\n",
    "y = np.arange(-5, 5, 0.25)\r\n",
    "x, y = np.meshgrid(x, y)\r\n",
    "r = np.sqrt(x**2 + y**2)\r\n",
    "z = np.sin(r)\r\n",
    "\r\n",
    "surf = ax.plot_surface(x, y, z, cmap=plt.cm.coolwarm,\r\n",
    "                      linewidth=0, antialiased=False)\r\n",
    "\r\n",
    "# z軸の設定\r\n",
    "ax.set_zlim(-1.01, 1.01)\r\n",
    "\r\n",
    "# カラーバーの表示\r\n",
    "fig.colorbar(surf, shrink=0.5, aspect=10)\r\n",
    "\r\n",
    "plt.show()"
   ],
   "outputs": [],
   "metadata": {}
  },
  {
   "cell_type": "code",
   "execution_count": null,
   "source": [],
   "outputs": [],
   "metadata": {}
  }
 ],
 "metadata": {
  "kernelspec": {
   "name": "python3",
   "display_name": "Python 3.8.3 64-bit ('otsu': conda)"
  },
  "language_info": {
   "codemirror_mode": {
    "name": "ipython",
    "version": 3
   },
   "file_extension": ".py",
   "mimetype": "text/x-python",
   "name": "python",
   "nbconvert_exporter": "python",
   "pygments_lexer": "ipython3",
   "version": "3.8.3"
  },
  "interpreter": {
   "hash": "cf610ce677c11422044e9a153fa2e5cd31e5ba489553db1592176450e8740762"
  }
 },
 "nbformat": 4,
 "nbformat_minor": 4
}